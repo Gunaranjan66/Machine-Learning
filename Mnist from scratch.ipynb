{
 "cells": [
  {
   "cell_type": "markdown",
   "metadata": {},
   "source": [
    "## MNIST CLassification from scratch\n",
    "by Robert"
   ]
  },
  {
   "cell_type": "markdown",
   "metadata": {},
   "source": [
    "This model uses only linear layer we can attach linear linear like attaching pipes"
   ]
  },
  {
   "cell_type": "code",
   "execution_count": 1,
   "metadata": {},
   "outputs": [
    {
     "name": "stdout",
     "output_type": "stream",
     "text": [
      "Using matplotlib backend: TkAgg\n",
      "Populating the interactive namespace from numpy and matplotlib\n"
     ]
    }
   ],
   "source": [
    "%pylab\n",
    "%matplotlib inline\n",
    "from tensorflow import keras\n",
    "(X_train,y_train),(X_test,y_test)=keras.datasets.mnist.load_data()\n",
    "def plot(img,label):\n",
    "    imshow(img)\n",
    "    plt.title(\"Label: \"+str(label))"
   ]
  },
  {
   "cell_type": "code",
   "execution_count": 2,
   "metadata": {},
   "outputs": [
    {
     "data": {
      "image/png": "[encoded data removed]",
      "text/plain": [
       "<Figure size 432x288 with 1 Axes>"
      ]
     },
     "metadata": {},
     "output_type": "display_data"
    }
   ],
   "source": [
    "plot(X_train[0].reshape(28,28),y_train[0])"
   ]
  },
  {
   "cell_type": "code",
   "execution_count": 183,
   "metadata": {},
   "outputs": [],
   "source": [
    "class Linear(object):\n",
    "    def __init__(self,input_dim,output_dim):\n",
    "        self.input_dim=input_dim\n",
    "        self.output_dim=output_dim\n",
    "        self.text=\"Linear_\"\n",
    "        self.w=0.1*np.random.random((input_dim,output_dim))-0.1\n",
    "        self.delta=None\n",
    "    def forward(self,x):\n",
    "        assert(x.shape[1]==self.input_dim)\n",
    "        self.previous=x\n",
    "        self.hs = np.dot(x,self.w)\n",
    "        return self.hs\n",
    "    def backward(self,delta=None,prev_layer=None,lr=0.005):\n",
    "        prev_delta=delta.dot(self.w.T)\n",
    "        if len(prev_layer)>0:\n",
    "            prev_layer[-1].backward(prev_delta,prev_layer[:-1])\n",
    "        self.w+=lr*self.previous.T.dot(delta)"
   ]
  },
  {
   "cell_type": "code",
   "execution_count": 185,
   "metadata": {},
   "outputs": [],
   "source": [
    "class Sequencal(object):\n",
    "    def __init__(self,*args):\n",
    "        self.layer=[l for l in args]\n",
    "        self.num_layer=len(self.layer)\n",
    "        #self.parameters={l.text+str(i):l.w for i,l in enumerate(self.layer)}\n",
    "    def forward(self,x):\n",
    "        assert(self.layer[0].input_dim == x.shape[1])\n",
    "        for i in range(self.num_layer):\n",
    "            x=self.layer[i].forward(x)\n",
    "        return x\n",
    "    def predict(self,test):\n",
    "        assert(self.layer[0].input_dim==test.shape[1])\n",
    "        for i in range(self.num_layer):\n",
    "            test=self.layer[i].forward(test)\n",
    "        return np.argmax(test,axis=1)"
   ]
  },
  {
   "cell_type": "code",
   "execution_count": 186,
   "metadata": {},
   "outputs": [],
   "source": [
    "class Crossentropy(object):\n",
    "    def __init__(self,y_true,y_pred,model):\n",
    "        self.y_true=y_true\n",
    "        self.y_pred=y_pred\n",
    "        self.layers=model.layer\n",
    "        self.n=self.y_true.shape[0]\n",
    "    def forward(self):\n",
    "        loss=np.sum((self.y_true-self.y_pred)**2)/len(self.y_true)\n",
    "        return loss\n",
    "    def backward(self,lr=0.001):\n",
    "        delta=(self.y_true-self.y_pred)\n",
    "        self.layers[-1].backward(delta,self.layers[:-1],lr=lr)"
   ]
  },
  {
   "cell_type": "code",
   "execution_count": 187,
   "metadata": {},
   "outputs": [],
   "source": [
    "t=6000\n",
    "labels=np.zeros((len(y_train[:t]),10))\n",
    "for i in range(t):\n",
    "    labels[i,y_train[i]]=1"
   ]
  },
  {
   "cell_type": "code",
   "execution_count": 190,
   "metadata": {},
   "outputs": [
    {
     "name": "stdout",
     "output_type": "stream",
     "text": [
      "loss: 0.16176,Train_acc :0.80117,Test_acc: 0.7925\n",
      "loss: 0.05221,Train_acc :0.8295,Test_acc: 0.8158\n",
      "loss: 0.04674,Train_acc :0.8425,Test_acc: 0.8258\n",
      "loss: 0.0444,Train_acc :0.84733,Test_acc: 0.8308\n",
      "loss: 0.04307,Train_acc :0.85233,Test_acc: 0.8335\n"
     ]
    }
   ],
   "source": [
    "model=Sequencal(Linear(784,40),Linear(40,10))\n",
    "for e in range(5):\n",
    "    loss=0\n",
    "    for i in range(t):\n",
    "        pred=model.forward(X_train[i].reshape(-1,784)/255.)\n",
    "        entropy=Crossentropy(labels[i],pred,model)\n",
    "        loss+=entropy.forward()\n",
    "        entropy.backward(lr=0.00001)\n",
    "    res=model.predict(X_train[:t].reshape(-1,784)/255.)\n",
    "    print(\"loss: {},Train_acc :{},Test_acc: {}\".format(round(loss/t,5),round(np.mean(res==y_train[:t]),5),np.mean(model.predict(X_test.reshape(-1,784))==y_test)))"
   ]
  },
  {
   "cell_type": "code",
   "execution_count": 199,
   "metadata": {},
   "outputs": [],
   "source": [
    "def view_classify(img, ps):\n",
    "    ps = ps.squeeze()\n",
    "    fig, (ax1, ax2) = plt.subplots(figsize=(6,9), ncols=2)\n",
    "    ax1.imshow(img.reshape(28, 28))\n",
    "    ax1.axis('off')\n",
    "    ax2.barh(np.arange(10), ps)\n",
    "    ax2.set_aspect(0.1)\n",
    "    ax2.set_yticks(np.arange(10))\n",
    "    ax2.set_yticklabels(np.arange(10))\n",
    "    ax2.set_title('Class Probability')\n",
    "    ax2.set_xlim(0, 1.1)\n",
    "    plt.tight_layout()"
   ]
  },
  {
   "cell_type": "code",
   "execution_count": 218,
   "metadata": {},
   "outputs": [
    {
     "data": {
      "image/png": "[encoded data removed]",
      "text/plain": [
       "<Figure size 432x648 with 2 Axes>"
      ]
     },
     "metadata": {},
     "output_type": "display_data"
    }
   ],
   "source": [
    "i=np.random.randint(0,1000)\n",
    "view_classify(X_test[i],model.forward(X_test[i].reshape(1,-1)/255.))"
   ]
  },
  {
   "cell_type": "code",
   "execution_count": null,
   "metadata": {},
   "outputs": [],
   "source": []
  }
 ],
 "metadata": {
  "kernelspec": {
   "display_name": "Python 3",
   "language": "python",
   "name": "python3"
  },
  "language_info": {
   "codemirror_mode": {
    "name": "ipython",
    "version": 3
   },
   "file_extension": ".py",
   "mimetype": "text/x-python",
   "name": "python",
   "nbconvert_exporter": "python",
   "pygments_lexer": "ipython3",
   "version": "3.6.4"
  }
 },
 "nbformat": 4,
 "nbformat_minor": 2
}
