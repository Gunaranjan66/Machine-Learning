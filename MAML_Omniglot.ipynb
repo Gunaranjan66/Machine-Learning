{
  "nbformat": 4,
  "nbformat_minor": 0,
  "metadata": {
    "kernelspec": {
      "display_name": "Python 3",
      "language": "python",
      "name": "python3"
    },
    "language_info": {
      "codemirror_mode": {
        "name": "ipython",
        "version": 3
      },
      "file_extension": ".py",
      "mimetype": "text/x-python",
      "name": "python",
      "nbconvert_exporter": "python",
      "pygments_lexer": "ipython3",
      "version": "3.6.4"
    },
    "colab": {
      "name": "MAML_Omniglot.ipynb",
      "provenance": [],
      "collapsed_sections": [],
      "include_colab_link": true
    }
  },
  "cells": [
    {
      "cell_type": "markdown",
      "metadata": {
        "id": "view-in-github",
        "colab_type": "text"
      },
      "source": [
        "<a href=\"https://colab.research.google.com/github/Gunaranjan66/Machine-Learning/blob/master/MAML_Omniglot.ipynb\" target=\"_parent\"><img src=\"https://colab.research.google.com/assets/colab-badge.svg\" alt=\"Open In Colab\"/></a>"
      ]
    },
    {
      "cell_type": "markdown",
      "metadata": {
        "id": "euZcI0Y9e1PC",
        "colab_type": "text"
      },
      "source": [
        "# Model-Agnostic Meta-Learning for Fast Adaptation of Deep Networks"
      ]
    },
    {
      "cell_type": "markdown",
      "metadata": {
        "id": "BDmRho1me1PO",
        "colab_type": "text"
      },
      "source": [
        "   ___Intorduction___:  Artificial intelligence is trying to learn how to learn from the way humans learn. We can quickly and easily recognize a new object from just seeing one or few pictures of it, or even from only reading about it without having ever seen it before. We can learn quickly a new skill as well as master many different tasks. This seems easy for the human intelligence but for machines, it is quite a challenge to overcome. Berkeley AI Research Lab published a research paper introducing Model-Agnostic Meta-learning MAML which is a simple solution, yet so powerful and game-changing in meta-learning (or learning to learn)."
      ]
    },
    {
      "cell_type": "code",
      "metadata": {
        "id": "NKc87UM8e1PV",
        "colab_type": "code",
        "colab": {}
      },
      "source": [
        "#packages\n",
        "import pandas as pd #data analysis\n",
        "import torch       #Deep network model designer\n",
        "from torch.utils.data import Dataset,DataLoader\n",
        "from PIL import Image # Image processing\n",
        "import torchvision.transforms as transforms #transformations\n",
        "import torch.nn as nn #Nework layers\n",
        "from collections import OrderedDict #creating dictionaries\n",
        "import torch.nn.functional as F \n",
        "import random\n",
        "import os\n",
        "import urllib.request\n",
        "import zipfile\n",
        "import csv\n",
        "import random\n",
        "import numpy as np\n",
        "import matplotlib.pyplot as plt\n",
        "%matplotlib inline"
      ],
      "execution_count": 0,
      "outputs": []
    },
    {
      "cell_type": "markdown",
      "metadata": {
        "id": "XYkf8PMte1P1",
        "colab_type": "text"
      },
      "source": [
        "# Downloading the data (omniglot)\n",
        "\n",
        "Omniglot data set for one-shot learning. This dataset contains 1623 different handwritten characters from 50 different alphabets.<br/>\n",
        "<li>This dataset is prepocessed and normalized</li>"
      ]
    },
    {
      "cell_type": "code",
      "metadata": {
        "id": "P55mS5lie1P7",
        "colab_type": "code",
        "colab": {}
      },
      "source": [
        "def download_url(url, save_path):\n",
        "    '''Args:\n",
        "            url : path to download file\n",
        "            save_path : file path to save to give url'''\n",
        "    with urllib.request.urlopen(url) as dl_file:\n",
        "        with open(save_path, 'wb') as out_file:\n",
        "            out_file.write(dl_file.read())"
      ],
      "execution_count": 0,
      "outputs": []
    },
    {
      "cell_type": "code",
      "metadata": {
        "id": "9YebFb4Me1QY",
        "colab_type": "code",
        "outputId": "a42ffbd6-38c4-44fe-b35a-61037e15b299",
        "colab": {
          "base_uri": "https://localhost:8080/",
          "height": 102
        }
      },
      "source": [
        "directory=\"data\"\n",
        "if not os.path.isdir(directory):\n",
        "    os.mkdir(directory)\n",
        "\n",
        "\n",
        "#urls for data\n",
        "urls = [\n",
        "        'https://github.com/brendenlake/omniglot/raw/master/python/images_background.zip',\n",
        "        'https://github.com/brendenlake/omniglot/raw/master/python/images_evaluation.zip'\n",
        "    ]\n",
        "\n",
        "\n",
        "for url in urls:\n",
        "    filename = url.split('/')[-1]\n",
        "    file_path = os.path.join(directory, filename)\n",
        "    print('== Downloading ' + filename)\n",
        "    download_url(url,file_path)\n",
        "    print(\"== Unzip from \" + file_path + \" to \" + directory)\n",
        "    zip_ref = zipfile.ZipFile(file_path, 'r')\n",
        "    zip_ref.extractall(directory)\n",
        "    zip_ref.close()\n",
        "print(\"Completed Downloading\")"
      ],
      "execution_count": 3,
      "outputs": [
        {
          "output_type": "stream",
          "text": [
            "== Downloading images_background.zip\n",
            "== Unzip from data/images_background.zip to data\n",
            "== Downloading images_evaluation.zip\n",
            "== Unzip from data/images_evaluation.zip to data\n",
            "Completed Downloading\n"
          ],
          "name": "stdout"
        }
      ]
    },
    {
      "cell_type": "markdown",
      "metadata": {
        "id": "M3nFaIgee1Qz",
        "colab_type": "text"
      },
      "source": [
        "## Labeling the data save it into csv file for later use"
      ]
    },
    {
      "cell_type": "code",
      "metadata": {
        "id": "MM84qJKve1Q4",
        "colab_type": "code",
        "colab": {}
      },
      "source": [
        "def labeling(folder,result_name):\n",
        "    global assigned_label\n",
        "    with open(result_name,'w') as csvfile:\n",
        "        fields=['ID','Path','Label']\n",
        "        csvwriter=csv.writer(csvfile,delimiter=',')\n",
        "        csvwriter.writerow(fields)\n",
        "        for a in os.listdir(folder):\n",
        "            i=0\n",
        "            for charfolder in os.listdir(folder+'/'+a):\n",
        "                for image in os.listdir(folder+'/'+a+'/'+charfolder):\n",
        "                    label=assigned_label\n",
        "                    path=folder+'/'+a+'/'+charfolder+'/'+image\n",
        "                    csvwriter.writerow([image,path,str(label)])\n",
        "                assigned_label+=1"
      ],
      "execution_count": 0,
      "outputs": []
    },
    {
      "cell_type": "code",
      "metadata": {
        "id": "9iVs0lyBe1RL",
        "colab_type": "code",
        "colab": {}
      },
      "source": [
        "assigned_label=0\n",
        "train_root='data/images_background'\n",
        "test_root='data/images_evaluation'\n",
        "labeling(train_root,\"train.csv\")\n",
        "labeling(test_root,\"test.csv\")"
      ],
      "execution_count": 0,
      "outputs": []
    },
    {
      "cell_type": "markdown",
      "metadata": {
        "id": "V_K2DgsVzc7Z",
        "colab_type": "text"
      },
      "source": [
        "Reading data from file which is created by above cell"
      ]
    },
    {
      "cell_type": "code",
      "metadata": {
        "id": "KRP3lVjZe1RX",
        "colab_type": "code",
        "colab": {}
      },
      "source": [
        "train_data=pd.read_csv(\"train.csv\")\n",
        "test_data=pd.read_csv(\"test.csv\")"
      ],
      "execution_count": 0,
      "outputs": []
    },
    {
      "cell_type": "code",
      "metadata": {
        "id": "9X4rheHl1y59",
        "colab_type": "code",
        "colab": {
          "base_uri": "https://localhost:8080/",
          "height": 204
        },
        "outputId": "1915d30f-27f4-4487-d928-dc3baf1f075d"
      },
      "source": [
        "train_data.sample(5)"
      ],
      "execution_count": 33,
      "outputs": [
        {
          "output_type": "execute_result",
          "data": {
            "text/html": [
              "<div>\n",
              "<style scoped>\n",
              "    .dataframe tbody tr th:only-of-type {\n",
              "        vertical-align: middle;\n",
              "    }\n",
              "\n",
              "    .dataframe tbody tr th {\n",
              "        vertical-align: top;\n",
              "    }\n",
              "\n",
              "    .dataframe thead th {\n",
              "        text-align: right;\n",
              "    }\n",
              "</style>\n",
              "<table border=\"1\" class=\"dataframe\">\n",
              "  <thead>\n",
              "    <tr style=\"text-align: right;\">\n",
              "      <th></th>\n",
              "      <th>ID</th>\n",
              "      <th>Path</th>\n",
              "      <th>Label</th>\n",
              "    </tr>\n",
              "  </thead>\n",
              "  <tbody>\n",
              "    <tr>\n",
              "      <th>5936</th>\n",
              "      <td>0413_13.png</td>\n",
              "      <td>data/images_background/Greek/character20/0413_...</td>\n",
              "      <td>296</td>\n",
              "    </tr>\n",
              "    <tr>\n",
              "      <th>19128</th>\n",
              "      <td>0480_18.png</td>\n",
              "      <td>data/images_background/Hebrew/character15/0480...</td>\n",
              "      <td>956</td>\n",
              "    </tr>\n",
              "    <tr>\n",
              "      <th>4614</th>\n",
              "      <td>0940_08.png</td>\n",
              "      <td>data/images_background/Tifinagh/character31/09...</td>\n",
              "      <td>230</td>\n",
              "    </tr>\n",
              "    <tr>\n",
              "      <th>1170</th>\n",
              "      <td>0875_18.png</td>\n",
              "      <td>data/images_background/Sanskrit/character25/08...</td>\n",
              "      <td>58</td>\n",
              "    </tr>\n",
              "    <tr>\n",
              "      <th>7205</th>\n",
              "      <td>0278_01.png</td>\n",
              "      <td>data/images_background/Syriac_(Estrangelo)/cha...</td>\n",
              "      <td>360</td>\n",
              "    </tr>\n",
              "  </tbody>\n",
              "</table>\n",
              "</div>"
            ],
            "text/plain": [
              "                ID                                               Path  Label\n",
              "5936   0413_13.png  data/images_background/Greek/character20/0413_...    296\n",
              "19128  0480_18.png  data/images_background/Hebrew/character15/0480...    956\n",
              "4614   0940_08.png  data/images_background/Tifinagh/character31/09...    230\n",
              "1170   0875_18.png  data/images_background/Sanskrit/character25/08...     58\n",
              "7205   0278_01.png  data/images_background/Syriac_(Estrangelo)/cha...    360"
            ]
          },
          "metadata": {
            "tags": []
          },
          "execution_count": 33
        }
      ]
    },
    {
      "cell_type": "code",
      "metadata": {
        "id": "eftGFUc1e1Wh",
        "colab_type": "code",
        "outputId": "199aa6e9-3e54-4aa6-ef12-33d5cc9c3651",
        "colab": {
          "base_uri": "https://localhost:8080/",
          "height": 34
        }
      },
      "source": [
        "device=torch.device(\"cuda\" if torch.cuda.is_available() else \"cpu\")\n",
        "device"
      ],
      "execution_count": 7,
      "outputs": [
        {
          "output_type": "execute_result",
          "data": {
            "text/plain": [
              "device(type='cpu')"
            ]
          },
          "metadata": {
            "tags": []
          },
          "execution_count": 7
        }
      ]
    },
    {
      "cell_type": "markdown",
      "metadata": {
        "id": "qebC_bgMzn-X",
        "colab_type": "text"
      },
      "source": [
        "# Pre step for input the data into model"
      ]
    },
    {
      "cell_type": "code",
      "metadata": {
        "id": "3icEL-hge1Wz",
        "colab_type": "code",
        "colab": {}
      },
      "source": [
        "class MiniSet(Dataset):\n",
        "    def __init__(self,fileroots,labels,transform):\n",
        "      '''\n",
        "      Args:\n",
        "          fileroots:path of image file\n",
        "          labels:output label to the fileroot image\n",
        "          transform:transform applied on images\n",
        "      '''\n",
        "        self.fileroots=fileroots\n",
        "        self.labels=labels\n",
        "        self.transform=transform\n",
        "\n",
        "    def __len__(self):\n",
        "        return len(self.fileroots)\n",
        "\n",
        "    def __getitem__(self,idx):\n",
        "        img=Image.open(self.fileroots[idx])\n",
        "        img=self.transform(img)\n",
        "        return img,self.labels[idx]"
      ],
      "execution_count": 0,
      "outputs": []
    },
    {
      "cell_type": "code",
      "metadata": {
        "id": "vIOJMmGae1XL",
        "colab_type": "code",
        "colab": {}
      },
      "source": [
        "class Task(object):\n",
        "    def __init__(self,data,all_classes,num_classes,k_way,k_query,transforms):\n",
        "      '''\n",
        "        Args:\n",
        "          data:pandas data frame that use for create task form it\n",
        "          all_classes:Array of classes of output of data\n",
        "          num_classes:Num classes is required for each task\n",
        "          k_way:num for samples of each class for inner step\n",
        "          k_query:num of sample for outer step update\n",
        "          transform:transform applied on images\n",
        "      '''\n",
        "        self.all_classes=all_classes\n",
        "        self.num_classes=num_classes\n",
        "        self.train_roots=[]\n",
        "        self.meta_roots=[]\n",
        "        self.train_labels=[]\n",
        "        self.meta_labels=[]\n",
        "        samples_per_class=20\n",
        "        self.transforms=transforms\n",
        "        sampled_classes=random.sample(all_classes,num_classes)\n",
        "        label=0\n",
        "        val=int(data.iloc[0][\"Label\"])\n",
        "        for c in sampled_classes:\n",
        "            cframe=data.iloc[((c-val)*samples_per_class):(((c+1)-val)*samples_per_class)]\n",
        "            cframe.reset_index(inplace=True,drop=True)\n",
        "            paths=cframe[\"Path\"]\n",
        "            sample_idxs=np.random.choice(samples_per_class,samples_per_class,replace=False)\n",
        "            train_idxs=sample_idxs[:k_way]\n",
        "            meta_idxs=sample_idxs[k_way:(k_way+k_query)]\n",
        "            for idx in train_idxs:\n",
        "                self.train_roots.append(paths[idx])\n",
        "                self.train_labels.append(label)\n",
        "            for idx in meta_idxs:\n",
        "                self.meta_roots.append(paths[idx])\n",
        "                self.meta_labels.append(label)\n",
        "            label+=1\n",
        "    def get_loaders(self):\n",
        "        loaders={}\n",
        "        trainloader=DataLoader(MiniSet(self.train_roots,self.train_labels,self.transforms),\n",
        "                             batch_size=len(self.train_roots),shuffle=True)\n",
        "        testloader=DataLoader(MiniSet(self.meta_roots,self.meta_labels,self.transforms),\n",
        "                             batch_size=len(self.meta_roots),shuffle=True)\n",
        "        loaders[\"sample\"]=trainloader\n",
        "        loaders[\"query\"]=testloader\n",
        "        return loaders"
      ],
      "execution_count": 0,
      "outputs": []
    },
    {
      "cell_type": "markdown",
      "metadata": {
        "id": "scV4_f8Ke1Xc",
        "colab_type": "text"
      },
      "source": [
        "## creating Model\n",
        "![alt text](https://miro.medium.com/max/3744/1*SGPGG7oeSvVlV5sOSQ2iZw.png)"
      ]
    },
    {
      "cell_type": "code",
      "metadata": {
        "id": "7q_7y9wLe1Xg",
        "colab_type": "code",
        "colab": {}
      },
      "source": [
        "class BaseNet(nn.Module):\n",
        "    def __init__(self,num_classes):\n",
        "        super(BaseNet,self).__init__()\n",
        "        '''Args:\n",
        "                num_classed : number of output labels\n",
        "            '''\n",
        "        self.features = nn.Sequential(OrderedDict([  \n",
        "                    ('conv1', nn.Conv2d(1, 64, 3)),  # 64x26x26\n",
        "                    ('bn1', nn.BatchNorm2d(64, momentum=1, affine=True)),\n",
        "                    ('relu1', nn.ReLU(inplace=True)),\n",
        "                    ('pool1', nn.MaxPool2d(2,2)), #    64x13x13\n",
        "                    ('conv2', nn.Conv2d(64,64,3)),  #  64x11x11\n",
        "                    ('bn2', nn.BatchNorm2d(64, momentum=1, affine=True)),\n",
        "                    ('relu2', nn.ReLU(inplace=True)),\n",
        "                    ('pool2', nn.MaxPool2d(2,2)), #    64x5x5\n",
        "                    ('conv3', nn.Conv2d(64,64,3)), #   64x3x3\n",
        "                    ('bn3', nn.BatchNorm2d(64, momentum=1, affine=True)),\n",
        "                    ('relu3', nn.ReLU(inplace=True)),\n",
        "                    ('pool3', nn.MaxPool2d(2,2))]))  #64x1x1  \n",
        "        self.fc= nn.Linear(64,num_classes) \n",
        "\n",
        "    def forward(self,x,weights=None):\n",
        "        '''Args:\n",
        "                x:input images (n x c x 28 x 28 size images)\n",
        "                n:number of images\n",
        "                c:number of color channels\n",
        "            returns:\n",
        "                    (n x num_classes) dimenstion array '''\n",
        "        if weights==None:  \n",
        "            output=self.features(x)\n",
        "            output=output.view(-1,64)\n",
        "            output=self.fc(output)\n",
        "        else:\n",
        "            x = F.conv2d(x, weights['features.conv1.weight'], weights['features.conv1.bias'])\n",
        "            x = F.batch_norm(x, weights['features.bn1.running_mean'], \n",
        "                             weights['features.bn1.running_var'],\n",
        "                              weights['features.bn1.weight'],\n",
        "                             weights['features.bn1.bias'],momentum=1,training=True)\n",
        "            x = F.relu(x)\n",
        "            x = F.max_pool2d(x, kernel_size=2, stride=2) \n",
        "            x = F.conv2d(x, weights['features.conv2.weight'], weights['features.conv2.bias'])\n",
        "            x = F.batch_norm(x, weights['features.bn2.running_mean'], \n",
        "                             weights['features.bn2.running_var'],\n",
        "                              weights['features.bn2.weight'],\n",
        "                             weights['features.bn2.bias'],momentum=1,training=True)\n",
        "            x = F.relu(x)\n",
        "            x = F.max_pool2d(x, kernel_size=2, stride=2) \n",
        "            x = F.conv2d(x, weights['features.conv3.weight'], weights['features.conv3.bias'])\n",
        "            x = F.batch_norm(x, weights['features.bn3.running_mean'], \n",
        "                             weights['features.bn3.running_var'],\n",
        "                              weights['features.bn3.weight'],\n",
        "                             weights['features.bn3.bias'],momentum=1,training=True)\n",
        "            x = F.relu(x)\n",
        "            x = F.max_pool2d(x, kernel_size=2, stride=2) \n",
        "            x = x.view(x.size(0), 64)\n",
        "            output = F.linear(x, weights['fc.weight'], weights['fc.bias'])\n",
        "        out = F.log_softmax(output, dim=1)\n",
        "        return out\n",
        "    def get_weights(self):\n",
        "        model_weights = {key: val.clone() for key, val in self.state_dict().items()}\n",
        "        return model_weights"
      ],
      "execution_count": 0,
      "outputs": []
    },
    {
      "cell_type": "markdown",
      "metadata": {
        "id": "YhHaV8M2z2j5",
        "colab_type": "text"
      },
      "source": [
        "# Inner_loop for MAML model\n",
        "![alt text](https://image.slidesharecdn.com/maml-181130144044/95/introduction-to-maml-model-agnostic-meta-learning-with-discussions-19-638.jpg?cb=1543588892)"
      ]
    },
    {
      "cell_type": "code",
      "metadata": {
        "id": "aMM73sYJe1Xr",
        "colab_type": "code",
        "colab": {}
      },
      "source": [
        "def train_single_task(net,lr,loaders,num_updates,loss_metric):\n",
        "  '''\n",
        "    Args:\n",
        "      net:Model that used\n",
        "      loaders:Data for inputing into model\n",
        "      lr:learning rate for inner loop\n",
        "      num_updates:number of time does inner loop get update the weights\n",
        "      loss_metric:loss function\n",
        "  '''\n",
        "    net.train()\n",
        "    trainloader=loaders[\"sample\"]\n",
        "    x,y=trainloader.__iter__().next()\n",
        "    x.to(device)\n",
        "    y.to(device)\n",
        "    output=net(x)\n",
        "    loss=loss_metric(output,y)\n",
        "    def zero_grad(params):\n",
        "        for p in params:\n",
        "            if p.grad is not None:\n",
        "                p.grad.zero_()\n",
        "    zero_grad(net.parameters())\n",
        "    grads=torch.autograd.grad(loss,net.parameters(),create_graph=True)\n",
        "    mod_state_dict=net.get_weights()\n",
        "    mod_weights=OrderedDict()\n",
        "    for (k,v),g in zip(net.named_parameters(),grads):\n",
        "        mod_weights[k]=v-lr*g\n",
        "        mod_state_dict[k]=mod_weights[k]\n",
        "    for i in range(1,num_updates):\n",
        "        output=net(x,mod_state_dict)\n",
        "        loss=loss_metric(output,y)\n",
        "        zero_grad(mod_weights.values())\n",
        "        grads=torch.autograd.grad(loss,mod_weights.values(),create_graph=True)\n",
        "        for (k,v),g in zip(mod_weights.items(),grads):\n",
        "            mod_weights[k]=v-lr*g\n",
        "            mod_state_dict[k]=mod_weights[k]\n",
        "    return mod_state_dict"
      ],
      "execution_count": 0,
      "outputs": []
    },
    {
      "cell_type": "markdown",
      "metadata": {
        "id": "9fT5nlnXz8vC",
        "colab_type": "text"
      },
      "source": [
        "# Traing the model"
      ]
    },
    {
      "cell_type": "code",
      "metadata": {
        "id": "AR0xtR0Je1X5",
        "colab_type": "code",
        "colab": {}
      },
      "source": [
        "def train(net,meta_train_classes,meta_optimiser,loss_metric,transforms,num_classes,\n",
        "          k_way,k_query,num_tasks,lr,meta_lr,num_inner_updates,num_epochs):   \n",
        "  '''\n",
        "    Args:\n",
        "      net:Model\n",
        "      meta_train_classes:Total class in the data\n",
        "      meta_optimiser:optimizer for outer loop\n",
        "      loss_metric:Loss function\n",
        "      transforms:transforms applied on data\n",
        "      num_classes:Number of classes on each task\n",
        "      k_way:number of images on each class for each task for inner loop\n",
        "      k_query:number of images on each class for each task for outer loop\n",
        "      lr:learning rate for inner loop\n",
        "      meta_lr:learning rate for meta update(outer loop)\n",
        "      num_inner_updates:number of time does inner loop get update the weights\n",
        "  '''\n",
        "    total_loss=0\n",
        "    meta_losses=[]\n",
        "    for epoch in range(1,num_epochs+1):\n",
        "        state_dicts=[]\n",
        "        loaders_list=[]\n",
        "        for n in range(num_tasks):\n",
        "            task=Task(train_data,meta_train_classes,num_classes,k_way,k_query,transforms)\n",
        "            loaders=task.get_loaders()\n",
        "            d=train_single_task(net,lr,loaders,num_inner_updates,loss_metric)\n",
        "            state_dicts.append(d)\n",
        "            loaders_list.append(loaders)\n",
        "        metaloss=0\n",
        "        for n in range(num_tasks):\n",
        "            loaders=loaders_list[n]\n",
        "            metaloader=loaders[\"query\"]\n",
        "            x,y=metaloader.__iter__().next()\n",
        "            x.to(device)\n",
        "            y.to(device)\n",
        "            d=state_dicts[n]\n",
        "            output=net(x,d)\n",
        "            loss=loss_metric(output,y)\n",
        "            metaloss+=loss\n",
        "        metaloss/=float(num_tasks)\n",
        "        total_loss+=metaloss.item()\n",
        "        meta_optimiser.zero_grad()\n",
        "        metaloss.backward()\n",
        "        meta_optimiser.step()\n",
        "        if (epoch % 10) == 0:\n",
        "            print(\"{}/{}. loss: {}\".format(epoch, num_epochs, total_loss / 2))\n",
        "        if (epoch%2)==0:\n",
        "            meta_losses.append(total_loss/2)\n",
        "            total_loss = 0\n",
        "    return meta_losses,net"
      ],
      "execution_count": 0,
      "outputs": []
    },
    {
      "cell_type": "code",
      "metadata": {
        "id": "Ki_AWPfme1YE",
        "colab_type": "code",
        "outputId": "5330ec8d-6e48-41db-8482-b8995816635f",
        "colab": {
          "base_uri": "https://localhost:8080/",
          "height": 187
        }
      },
      "source": [
        "loss_metric=nn.NLLLoss()\n",
        "num_classes=5\n",
        "net=BaseNet(num_classes)\n",
        "lr=1e-1\n",
        "meta_lr=1e-3\n",
        "meta_optimizer = torch.optim.Adam(net.parameters(), lr=meta_lr)\n",
        "k_way=10\n",
        "k_query=10\n",
        "num_tasks=10\n",
        "num_inner_updates=1\n",
        "num_epochs=100\n",
        "train_classes=np.max(train_data['Label'])\n",
        "train_classes=list(np.arange(train_classes))\n",
        "transform=transforms.Compose([transforms.Resize((28,28)),transforms.ToTensor()])\n",
        "metalosses,net=train(net,train_classes,meta_optimizer,loss_metric,transform,\n",
        "                     num_classes,k_way,k_query,num_tasks,lr,meta_lr,\n",
        "                     num_inner_updates,num_epochs)"
      ],
      "execution_count": 22,
      "outputs": [
        {
          "output_type": "stream",
          "text": [
            "10/100. loss: 0.6642213463783264\n",
            "20/100. loss: 0.510557621717453\n",
            "30/100. loss: 0.3551229238510132\n",
            "40/100. loss: 0.3085741251707077\n",
            "50/100. loss: 0.28945405781269073\n",
            "60/100. loss: 0.24506106972694397\n",
            "70/100. loss: 0.21089977771043777\n",
            "80/100. loss: 0.20205962657928467\n",
            "90/100. loss: 0.20156239718198776\n",
            "100/100. loss: 0.18115905672311783\n"
          ],
          "name": "stdout"
        }
      ]
    },
    {
      "cell_type": "code",
      "metadata": {
        "id": "5N6w_1rTe1Yo",
        "colab_type": "code",
        "outputId": "e100f35e-062b-4d3e-dcdd-3dc5bac98ee2",
        "colab": {
          "base_uri": "https://localhost:8080/",
          "height": 295
        }
      },
      "source": [
        "plt.plot(metalosses,color='b')\n",
        "plt.title(\"Loss function\")\n",
        "plt.xlabel(\"Epoches\")\n",
        "plt.ylabel(\"Loss\")\n",
        "plt.show()"
      ],
      "execution_count": 23,
      "outputs": [
        {
          "output_type": "display_data",
          "data": {
            "image/png": "[encoded data removed]",
            "text/plain": [
              "<Figure size 432x288 with 1 Axes>"
            ]
          },
          "metadata": {
            "tags": [],
            "needs_background": "light"
          }
        }
      ]
    },
    {
      "cell_type": "markdown",
      "metadata": {
        "id": "pTx7XhgTyZR-",
        "colab_type": "text"
      },
      "source": [
        "<h1>Evaluation on test_data</h1><br/>\n",
        "<p>Taking sample's form the test data and perform the MAML on the sample "
      ]
    },
    {
      "cell_type": "code",
      "metadata": {
        "id": "8yEN-Nse4nW-",
        "colab_type": "code",
        "colab": {}
      },
      "source": [
        "def accuracy(outputs, labels):\n",
        "  outputs = np.argmax(outputs, axis=1)\n",
        "  return np.sum(outputs == labels) / float(labels.size)\n",
        "def evaluate(net,test_classes,task_lr,transform,num_classes=3,num_steps=100,k_way=3,k_query=5,num_eval_updates=5):\n",
        "    losses=[]\n",
        "    acc_list=[]\n",
        "    for step in np.arange(num_steps):\n",
        "        task=Task(test_data,test_classes,num_classes=num_classes,k_way=k_way,k_query=k_query,transforms=transform)\n",
        "        loaders=task.get_loaders()\n",
        "        trainloader,testloader=loaders[\"sample\"],loaders[\"query\"]\n",
        "        x_train,y_train=trainloader.__iter__().next()\n",
        "        x_test,y_test=testloader.__iter__().next()\n",
        "        x_train.to(device)\n",
        "        y_train.to(device)\n",
        "        x_test.to(device)\n",
        "        y_test.to(device)\n",
        "        cloned_net=copy.deepcopy(net)\n",
        "        optim = torch.optim.SGD(cloned_net.parameters(),lr=task_lr)\n",
        "        for _ in range(num_eval_updates):\n",
        "            y_train_pred=cloned_net(x_train)\n",
        "            loss=loss_metric(y_train_pred,y_train)\n",
        "            optim.zero_grad()\n",
        "            loss.backward()\n",
        "            optim.step()\n",
        "        y_test_pred=cloned_net(x_test)\n",
        "        loss=loss_metric(y_test_pred,y_test)\n",
        "        losses.append(loss)\n",
        "        y_test_pred=y_test_pred.data.cpu().numpy()\n",
        "        y_test=y_test.data.cpu().numpy()\n",
        "        acc=accuracy(y_test_pred,y_test)\n",
        "        if step%10==0:\n",
        "          print(\"accuracy is: \",acc)\n",
        "        acc_list.append(acc)\n",
        "    return acc_list,losses"
      ],
      "execution_count": 0,
      "outputs": []
    },
    {
      "cell_type": "code",
      "metadata": {
        "id": "R_LizSen4-A2",
        "colab_type": "code",
        "outputId": "ac4b55b5-1487-4d4c-f714-3fae2186fecf",
        "colab": {
          "base_uri": "https://localhost:8080/",
          "height": 187
        }
      },
      "source": [
        "import copy\n",
        "#test_classes=np.max(testframe['Label'])-np.min(testframe['Label'])\n",
        "test_classes=list(np.arange(np.min(test_data['Label']),np.max(test_data['Label']+1)))\n",
        "acc_list,losses=evaluate(net,test_classes,task_lr=1e-1,transform=transform,k_way=k_way,k_query=k_query )"
      ],
      "execution_count": 30,
      "outputs": [
        {
          "output_type": "stream",
          "text": [
            "accuracy is:  0.9666666666666667\n",
            "accuracy is:  1.0\n",
            "accuracy is:  1.0\n",
            "accuracy is:  0.9\n",
            "accuracy is:  1.0\n",
            "accuracy is:  1.0\n",
            "accuracy is:  0.9666666666666667\n",
            "accuracy is:  1.0\n",
            "accuracy is:  1.0\n",
            "accuracy is:  1.0\n"
          ],
          "name": "stdout"
        }
      ]
    },
    {
      "cell_type": "markdown",
      "metadata": {
        "id": "OU_A98J43TOm",
        "colab_type": "text"
      },
      "source": [
        "From the above output it predicts better event though training sample are less"
      ]
    },
    {
      "cell_type": "code",
      "metadata": {
        "id": "0LRnVsDB3R5w",
        "colab_type": "code",
        "colab": {}
      },
      "source": [
        ""
      ],
      "execution_count": 0,
      "outputs": []
    },
    {
      "cell_type": "code",
      "metadata": {
        "id": "qJQiEXsGzM9n",
        "colab_type": "code",
        "colab": {}
      },
      "source": [
        ""
      ],
      "execution_count": 0,
      "outputs": []
    }
  ]
}