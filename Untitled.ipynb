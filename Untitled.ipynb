{
 "cells": [
  {
   "cell_type": "code",
   "execution_count": null,
   "metadata": {},
   "outputs": [],
   "source": [
    "import pygame\n",
    "import sys\n",
    "import tensorflow as tf\n",
    "%pylab\n",
    "%matplotlib inline"
   ]
  },
  {
   "cell_type": "markdown",
   "metadata": {},
   "source": [
    "# This is dimonstration on polynomial regression BY"
   ]
  },
  {
   "cell_type": "code",
   "execution_count": 3,
   "metadata": {},
   "outputs": [],
   "source": [
    "A=tf.Variable(np.random.randn(),name='A')\n",
    "B=tf.Variable(np.random.randn(),name='B')\n",
    "C=tf.Variable(np.random.randn(),name='C')\n",
    "D=tf.Variable(np.random.randn(),name='D')\n",
    "width,height=(600,600)\n",
    "WHITE=(255,255,255)\n",
    "xs=np.array([],dtype=np.float32)\n",
    "ys=np.array([],dtype=np.float32)\n",
    "sess=tf.Session()\n",
    "def maps(fun,x1,y1,x2,y2):\n",
    "    return ((fun-x1)/(y1-x1))*(y2-x2)+x2\n",
    "def draw(screen):\n",
    "    x=maps(xs,-1,1,0,width)\n",
    "    y=maps(ys,-1,1,height,0)\n",
    "    for i,j in zip(x,y):\n",
    "        pygame.draw.circle(screen,WHITE,(int(i),int(j)),3)\n",
    "def predict(X):\n",
    "    return tf.multiply(X*X*X,A)+tf.multiply(X*X,B)+tf.multiply(X,C)+D\n",
    "def pred_line(screen):\n",
    "    xs=np.linspace(-1,1,100,dtype=np.float32)\n",
    "    ys=sess.run(predict(xs))\n",
    "    x1=maps(xs,-1,1,0,width)\n",
    "    y1=maps(ys,-1,1,height,0)\n",
    "    pygame.draw.lines(screen,WHITE,False,np.c_[x1,y1],2)\n",
    "def screen():\n",
    "    global xs,ys,W,B\n",
    "    X=tf.placeholder(tf.float32,name='X')\n",
    "    Y=tf.placeholder(tf.float32,name='Y')\n",
    "    sess.run(tf.global_variables_initializer())\n",
    "    ypred=X*X*X*A+X*X*B+X*C+D\n",
    "    cost=tf.reduce_mean(tf.square(Y-ypred))\n",
    "    optimizer = tf.train.RMSPropOptimizer(0.01).minimize(cost)\n",
    "    sess.run(tf.global_variables_initializer())\n",
    "    screen=pygame.display.set_mode((width,height))\n",
    "    i=0;j=0\n",
    "    while 1:\n",
    "        screen.fill((0,0,0))\n",
    "        if len(xs)>0:\n",
    "            draw(screen)\n",
    "            for i in range(50):\n",
    "                sess.run(optimizer,feed_dict={X:xs,Y:ys})\n",
    "        pred_line(screen)\n",
    "        for ev in pygame.event.get():\n",
    "            if ev.type==pygame.QUIT:\n",
    "                pygame.display.quit()\n",
    "                return screen\n",
    "            if ev.type==pygame.MOUSEBUTTONDOWN:\n",
    "                x,y=pygame.mouse.get_pos()\n",
    "                xs=np.append(xs,maps(x,0, width, -1, 1))\n",
    "                ys=np.append(ys,maps(y,0, height, 1, -1))\n",
    "        pygame.display.update()\n",
    "    return screen\n",
    "pygame.init()\n",
    "screen=screen()"
   ]
  },
  {
   "cell_type": "code",
   "execution_count": null,
   "metadata": {},
   "outputs": [],
   "source": []
  }
 ],
 "metadata": {
  "kernelspec": {
   "display_name": "Python 3",
   "language": "python",
   "name": "python3"
  },
  "language_info": {
   "codemirror_mode": {
    "name": "ipython",
    "version": 3
   },
   "file_extension": ".py",
   "mimetype": "text/x-python",
   "name": "python",
   "nbconvert_exporter": "python",
   "pygments_lexer": "ipython3",
   "version": "3.6.4"
  }
 },
 "nbformat": 4,
 "nbformat_minor": 2
}
